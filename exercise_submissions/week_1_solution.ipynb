{
  "cells": [
    {
      "cell_type": "markdown",
      "metadata": {
        "id": "view-in-github",
        "colab_type": "text"
      },
      "source": [
        "<a href=\"https://colab.research.google.com/github/boixee/ArewaDS-Deep_Learning_Pytorch/blob/main/week_1_solution.ipynb\" target=\"_parent\"><img src=\"https://colab.research.google.com/assets/colab-badge.svg\" alt=\"Open In Colab\"/></a>"
      ]
    },
    {
      "cell_type": "markdown",
      "source": [
        "# Arewa Data Science Academy\n"
      ],
      "metadata": {
        "id": "mMbsGb_Ms01F"
      }
    },
    {
      "cell_type": "markdown",
      "source": [
        "Deep Learning Cohort1.0\n"
      ],
      "metadata": {
        "id": "xsby8vjgs5uB"
      }
    },
    {
      "cell_type": "markdown",
      "source": [
        "Name: Abubakar Labaran Salisu\n"
      ],
      "metadata": {
        "id": "rrfkoQbCtQAO"
      }
    },
    {
      "cell_type": "markdown",
      "source": [
        "Email: abubakarsalisulabaran@gmail.com\n"
      ],
      "metadata": {
        "id": "3oDg6z6wtR_o"
      }
    },
    {
      "cell_type": "markdown",
      "source": [
        "Exercises Solution"
      ],
      "metadata": {
        "id": "4oBRJtZ-tVZ-"
      }
    },
    {
      "cell_type": "markdown",
      "source": [],
      "metadata": {
        "id": "zUVMFSVOr7hl"
      }
    },
    {
      "cell_type": "code",
      "execution_count": null,
      "metadata": {
        "id": "2nc8ppoPSpyb"
      },
      "outputs": [],
      "source": [
        "import torch"
      ]
    },
    {
      "cell_type": "markdown",
      "metadata": {
        "id": "lWgIprCPQ-DM"
      },
      "source": [
        "2. Create a random tensor with shape (7, 7)."
      ]
    },
    {
      "cell_type": "code",
      "execution_count": 11,
      "metadata": {
        "colab": {
          "base_uri": "https://localhost:8080/"
        },
        "id": "YDXpe6cXr3N2",
        "outputId": "9e70a47e-5894-4828-df98-506f81b917cb"
      },
      "outputs": [
        {
          "output_type": "execute_result",
          "data": {
            "text/plain": [
              "torch.Size([7, 7])"
            ]
          },
          "metadata": {},
          "execution_count": 11
        }
      ],
      "source": [
        "random_tensor_A = torch.rand(size=(7, 7))\n",
        "random_tensor_A.shape"
      ]
    },
    {
      "cell_type": "markdown",
      "source": [
        "3."
      ],
      "metadata": {
        "id": "EkJpw6P4apQt"
      }
    },
    {
      "cell_type": "code",
      "source": [
        "random_tensor_B = torch.rand(size=(1, 7))"
      ],
      "metadata": {
        "id": "beazQLoxczLk"
      },
      "execution_count": 12,
      "outputs": []
    },
    {
      "cell_type": "code",
      "source": [
        "random_tensor_AB = torch.matmul(random_tensor_A, random_tensor_B.T)\n",
        "random_tensor_AB, random_tensor_AB.shape"
      ],
      "metadata": {
        "colab": {
          "base_uri": "https://localhost:8080/"
        },
        "id": "Pbwwq24ndaI5",
        "outputId": "7f25756b-0a87-498a-a65f-7c385a5bf517"
      },
      "execution_count": 15,
      "outputs": [
        {
          "output_type": "execute_result",
          "data": {
            "text/plain": [
              "(tensor([[1.8370],\n",
              "         [2.4211],\n",
              "         [2.5836],\n",
              "         [2.2988],\n",
              "         [1.5997],\n",
              "         [2.1766],\n",
              "         [1.5780]]),\n",
              " torch.Size([7, 1]))"
            ]
          },
          "metadata": {},
          "execution_count": 15
        }
      ]
    },
    {
      "cell_type": "markdown",
      "source": [
        "4."
      ],
      "metadata": {
        "id": "qlcMU_CjeUs8"
      }
    },
    {
      "cell_type": "code",
      "source": [
        "torch.manual_seed(0)"
      ],
      "metadata": {
        "colab": {
          "base_uri": "https://localhost:8080/"
        },
        "id": "sr_jNy1PeXAw",
        "outputId": "cedee957-738f-4872-cd34-9dbc03dec0db"
      },
      "execution_count": 16,
      "outputs": [
        {
          "output_type": "execute_result",
          "data": {
            "text/plain": [
              "<torch._C.Generator at 0x7f66dbe995b0>"
            ]
          },
          "metadata": {},
          "execution_count": 16
        }
      ]
    },
    {
      "cell_type": "code",
      "source": [
        "random_tensor_A = torch.rand(size=(7, 7))\n",
        "random_tensor_B = torch.rand(size=(1, 7))\n",
        "\n",
        "random_tensor_AB = torch.matmul(random_tensor_A, random_tensor_B.T)"
      ],
      "metadata": {
        "id": "oaUdAtfgebN1"
      },
      "execution_count": 17,
      "outputs": []
    },
    {
      "cell_type": "code",
      "source": [
        "random_tensor_AB, random_tensor_AB.shape"
      ],
      "metadata": {
        "colab": {
          "base_uri": "https://localhost:8080/"
        },
        "id": "jJOBtIdcfNHd",
        "outputId": "3aa0c3d8-ecc6-4406-b04a-34d5d0d29792"
      },
      "execution_count": 18,
      "outputs": [
        {
          "output_type": "execute_result",
          "data": {
            "text/plain": [
              "(tensor([[1.8542],\n",
              "         [1.9611],\n",
              "         [2.2884],\n",
              "         [3.0481],\n",
              "         [1.7067],\n",
              "         [2.5290],\n",
              "         [1.7989]]),\n",
              " torch.Size([7, 1]))"
            ]
          },
          "metadata": {},
          "execution_count": 18
        }
      ]
    },
    {
      "cell_type": "markdown",
      "source": [
        "5."
      ],
      "metadata": {
        "id": "6jzzvg_hfXTT"
      }
    },
    {
      "cell_type": "code",
      "source": [
        "torch.cuda.manual_seed(73)"
      ],
      "metadata": {
        "id": "WtoGypatfZDh"
      },
      "execution_count": 19,
      "outputs": []
    },
    {
      "cell_type": "code",
      "source": [
        "random_tensor_AB, random_tensor_AB.shape"
      ],
      "metadata": {
        "colab": {
          "base_uri": "https://localhost:8080/"
        },
        "id": "dnI03iNtf2Kw",
        "outputId": "17628022-da48-443d-89e7-363976e89fa5"
      },
      "execution_count": 20,
      "outputs": [
        {
          "output_type": "execute_result",
          "data": {
            "text/plain": [
              "(tensor([[1.8542],\n",
              "         [1.9611],\n",
              "         [2.2884],\n",
              "         [3.0481],\n",
              "         [1.7067],\n",
              "         [2.5290],\n",
              "         [1.7989]]),\n",
              " torch.Size([7, 1]))"
            ]
          },
          "metadata": {},
          "execution_count": 20
        }
      ]
    },
    {
      "cell_type": "markdown",
      "source": [
        "6."
      ],
      "metadata": {
        "id": "0dZgGbutf6hU"
      }
    },
    {
      "cell_type": "code",
      "source": [
        "device = \"cuda\" if torch.cuda.is_available() else \"cpu\"\n",
        "print(device)"
      ],
      "metadata": {
        "colab": {
          "base_uri": "https://localhost:8080/"
        },
        "id": "ftwXLmV0nssC",
        "outputId": "0680a951-5a51-42df-ae2c-9a6dfe34e76b"
      },
      "execution_count": 22,
      "outputs": [
        {
          "output_type": "stream",
          "name": "stdout",
          "text": [
            "cuda\n"
          ]
        }
      ]
    },
    {
      "cell_type": "code",
      "source": [
        "tensor_1 = torch.rand(size=(2,3)).to(device)\n",
        "tensor_2 = torch.rand(size=(2,3)).to(device)\n",
        "tensor_1, tensor_2"
      ],
      "metadata": {
        "colab": {
          "base_uri": "https://localhost:8080/"
        },
        "id": "MMu5Nd1ynuN0",
        "outputId": "9398c559-636d-424d-8c0c-482c4337aa86"
      },
      "execution_count": 23,
      "outputs": [
        {
          "output_type": "execute_result",
          "data": {
            "text/plain": [
              "(tensor([[0.7749, 0.8208, 0.2793],\n",
              "         [0.6817, 0.2837, 0.6567]], device='cuda:0'),\n",
              " tensor([[0.2388, 0.7313, 0.6012],\n",
              "         [0.3043, 0.2548, 0.6294]], device='cuda:0'))"
            ]
          },
          "metadata": {},
          "execution_count": 23
        }
      ]
    },
    {
      "cell_type": "markdown",
      "source": [
        "7."
      ],
      "metadata": {
        "id": "EncgKRCmoY0i"
      }
    },
    {
      "cell_type": "code",
      "source": [
        "tensor_1 = torch.rand(size=(2,3)).to(device)\n",
        "tensor_2 = torch.rand(size=(2,3)).to(device)\n",
        "\n",
        "tensor_3 = torch.matmul(tensor_1, tensor_2.T)\n",
        "tensor_3, tensor_3.shape\n",
        ""
      ],
      "metadata": {
        "colab": {
          "base_uri": "https://localhost:8080/"
        },
        "id": "i3_DEtEOoamt",
        "outputId": "a7dacdf8-efed-4428-a671-658748072184"
      },
      "execution_count": 24,
      "outputs": [
        {
          "output_type": "execute_result",
          "data": {
            "text/plain": [
              "(tensor([[1.2478, 1.0013],\n",
              "         [0.6995, 0.6665]], device='cuda:0'),\n",
              " torch.Size([2, 2]))"
            ]
          },
          "metadata": {},
          "execution_count": 24
        }
      ]
    },
    {
      "cell_type": "markdown",
      "source": [
        "8."
      ],
      "metadata": {
        "id": "IDNzqqlOo-I2"
      }
    },
    {
      "cell_type": "code",
      "source": [
        "max = torch.max(tensor_3)\n",
        "min = torch.min(tensor_3)\n",
        "max, min"
      ],
      "metadata": {
        "colab": {
          "base_uri": "https://localhost:8080/"
        },
        "id": "KZvTCg7No_yv",
        "outputId": "bec1e06e-f12a-4734-eb97-35bca7218654"
      },
      "execution_count": 26,
      "outputs": [
        {
          "output_type": "execute_result",
          "data": {
            "text/plain": [
              "(tensor(1.2478, device='cuda:0'), tensor(0.6665, device='cuda:0'))"
            ]
          },
          "metadata": {},
          "execution_count": 26
        }
      ]
    },
    {
      "cell_type": "markdown",
      "source": [
        "9."
      ],
      "metadata": {
        "id": "mu0IvQf1pr0Z"
      }
    },
    {
      "cell_type": "code",
      "source": [
        "inx_max = torch.argmax(tensor_3)\n",
        "inx_min = torch.argmin(tensor_3)\n",
        "inx_max, inx_min"
      ],
      "metadata": {
        "colab": {
          "base_uri": "https://localhost:8080/"
        },
        "id": "8BIhLi9_puPN",
        "outputId": "a4b37a0a-5b5a-4b24-83d5-ed3a7c8b1ffa"
      },
      "execution_count": 27,
      "outputs": [
        {
          "output_type": "execute_result",
          "data": {
            "text/plain": [
              "(tensor(0, device='cuda:0'), tensor(3, device='cuda:0'))"
            ]
          },
          "metadata": {},
          "execution_count": 27
        }
      ]
    },
    {
      "cell_type": "markdown",
      "source": [
        "10."
      ],
      "metadata": {
        "id": "CAUssrf2qcxN"
      }
    },
    {
      "cell_type": "code",
      "source": [
        "torch.manual_seed(7)"
      ],
      "metadata": {
        "colab": {
          "base_uri": "https://localhost:8080/"
        },
        "id": "BXwcI6SNqebq",
        "outputId": "a346699f-fae5-41e0-9af8-36efa24f6199"
      },
      "execution_count": 28,
      "outputs": [
        {
          "output_type": "execute_result",
          "data": {
            "text/plain": [
              "<torch._C.Generator at 0x7f66dbe995b0>"
            ]
          },
          "metadata": {},
          "execution_count": 28
        }
      ]
    },
    {
      "cell_type": "code",
      "source": [
        "newtensor_1 = torch.rand(size=(1, 1, 1, 10))"
      ],
      "metadata": {
        "id": "D6JQ3xaMq-mE"
      },
      "execution_count": 29,
      "outputs": []
    },
    {
      "cell_type": "code",
      "source": [
        "newtensor_1, newtensor_1.shape"
      ],
      "metadata": {
        "colab": {
          "base_uri": "https://localhost:8080/"
        },
        "id": "P9oW9R0nrTGq",
        "outputId": "9bce6338-e376-4963-fa3d-9ba06d2a558c"
      },
      "execution_count": 30,
      "outputs": [
        {
          "output_type": "execute_result",
          "data": {
            "text/plain": [
              "(tensor([[[[0.5349, 0.1988, 0.6592, 0.6569, 0.2328, 0.4251, 0.2071, 0.6297,\n",
              "            0.3653, 0.8513]]]]),\n",
              " torch.Size([1, 1, 1, 10]))"
            ]
          },
          "metadata": {},
          "execution_count": 30
        }
      ]
    }
  ],
  "metadata": {
    "accelerator": "GPU",
    "colab": {
      "provenance": [],
      "authorship_tag": "ABX9TyMUmZyGiTqF6p51KthpKs/j",
      "include_colab_link": true
    },
    "kernelspec": {
      "display_name": "Python 3",
      "name": "python3"
    },
    "language_info": {
      "name": "python"
    }
  },
  "nbformat": 4,
  "nbformat_minor": 0
}